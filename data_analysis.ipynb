{
 "cells": [
  {
   "cell_type": "code",
   "execution_count": 3,
   "metadata": {},
   "outputs": [],
   "source": [
    "import pandas as pd\n",
    "import numpy as np\n",
    "\n",
    "linkedin_df = pd.read_csv('./output/LinkedIn.csv')\n",
    "indeed_df = pd.read_csv('./output/Indeed.csv')\n",
    "monster_df = pd.read_csv('./output/Monster.csv')\n",
    "ziprec_df = pd.read_csv('./output/ZipRecruiter.csv')"
   ]
  },
  {
   "cell_type": "code",
   "execution_count": 4,
   "metadata": {},
   "outputs": [],
   "source": [
    "# Handle missing values\n",
    "linkedin_df.dropna(inplace=True)\n",
    "indeed_df.dropna(inplace=True)\n",
    "monster_df.dropna(inplace=True)\n",
    "ziprec_df.dropna(inplace=True)"
   ]
  },
  {
   "cell_type": "code",
   "execution_count": 5,
   "metadata": {},
   "outputs": [],
   "source": [
    "linkedin_df['review_time'] = pd.to_datetime(linkedin_df['review_time'])\n",
    "indeed_df['review_time'] = pd.to_datetime(indeed_df['review_time'])\n",
    "monster_df['review_time'] = pd.to_datetime(monster_df['review_time'])\n",
    "ziprec_df['review_time'] = pd.to_datetime(ziprec_df['review_time'])"
   ]
  },
  {
   "cell_type": "code",
   "execution_count": 6,
   "metadata": {},
   "outputs": [],
   "source": [
    "linkedin_df.reset_index(drop=True, inplace=True)\n",
    "indeed_df.reset_index(drop=True, inplace=True)\n",
    "monster_df.reset_index(drop=True, inplace=True)\n",
    "ziprec_df.reset_index(drop=True, inplace=True)"
   ]
  },
  {
   "cell_type": "code",
   "execution_count": 7,
   "metadata": {},
   "outputs": [],
   "source": [
    "linkedin_df['positive_review'] = linkedin_df['positive_review'].str.strip()\n",
    "linkedin_df['negative_review'] = linkedin_df['negative_review'].str.strip()\n",
    "indeed_df['positive_review'] = indeed_df['positive_review'].str.strip()\n",
    "indeed_df['negative_review'] = indeed_df['negative_review'].str.strip()\n",
    "monster_df['positive_review'] = monster_df['positive_review'].str.strip()\n",
    "monster_df['negative_review'] = monster_df['negative_review'].str.strip()\n",
    "ziprec_df['positive_review'] = ziprec_df['positive_review'].str.strip()\n",
    "ziprec_df['negative_review'] = ziprec_df['negative_review'].str.strip()"
   ]
  },
  {
   "cell_type": "code",
   "execution_count": 8,
   "metadata": {},
   "outputs": [],
   "source": [
    "linkedin_df.drop_duplicates(inplace=True)\n",
    "indeed_df.drop_duplicates(inplace=True)\n",
    "monster_df.drop_duplicates(inplace=True)\n",
    "ziprec_df.drop_duplicates(inplace=True)"
   ]
  },
  {
   "cell_type": "code",
   "execution_count": 9,
   "metadata": {},
   "outputs": [
    {
     "name": "stdout",
     "output_type": "stream",
     "text": [
      "LinkedIn DataFrame:\n"
     ]
    },
    {
     "data": {
      "text/html": [
       "<div>\n",
       "<style scoped>\n",
       "    .dataframe tbody tr th:only-of-type {\n",
       "        vertical-align: middle;\n",
       "    }\n",
       "\n",
       "    .dataframe tbody tr th {\n",
       "        vertical-align: top;\n",
       "    }\n",
       "\n",
       "    .dataframe thead th {\n",
       "        text-align: right;\n",
       "    }\n",
       "</style>\n",
       "<table border=\"1\" class=\"dataframe\">\n",
       "  <thead>\n",
       "    <tr style=\"text-align: right;\">\n",
       "      <th></th>\n",
       "      <th>review_time</th>\n",
       "      <th>positive_review</th>\n",
       "      <th>negative_review</th>\n",
       "      <th>problems_solved</th>\n",
       "      <th>rating</th>\n",
       "    </tr>\n",
       "  </thead>\n",
       "  <tbody>\n",
       "    <tr>\n",
       "      <th>0</th>\n",
       "      <td>2022-02-12</td>\n",
       "      <td>It's effortless to use both as a Job Seeker an...</td>\n",
       "      <td>The job \"subscriptions\" you create for yoursel...</td>\n",
       "      <td>Personally, I find the best feature is how eas...</td>\n",
       "      <td>4.5</td>\n",
       "    </tr>\n",
       "    <tr>\n",
       "      <th>1</th>\n",
       "      <td>2021-12-17</td>\n",
       "      <td>I can say that LinkedIn job search is the best...</td>\n",
       "      <td>Although the LinkedIn job search is the best w...</td>\n",
       "      <td>The best thing that I used to do is that I can...</td>\n",
       "      <td>5.0</td>\n",
       "    </tr>\n",
       "    <tr>\n",
       "      <th>2</th>\n",
       "      <td>2022-05-11</td>\n",
       "      <td>Linkedln job seach provide you the multiple fi...</td>\n",
       "      <td>There is nothing to dislike about linkedln job...</td>\n",
       "      <td>It helping to get market current requirements ...</td>\n",
       "      <td>5.0</td>\n",
       "    </tr>\n",
       "    <tr>\n",
       "      <th>3</th>\n",
       "      <td>2021-11-19</td>\n",
       "      <td>This software allows the candidate or the job ...</td>\n",
       "      <td>I am delighted to use this application, and I ...</td>\n",
       "      <td>I usually post jobs for my organization, and t...</td>\n",
       "      <td>5.0</td>\n",
       "    </tr>\n",
       "    <tr>\n",
       "      <th>4</th>\n",
       "      <td>2021-11-15</td>\n",
       "      <td>I like the idea itself to help you find a job ...</td>\n",
       "      <td>I use Linkedin the application to find a job</td>\n",
       "      <td>It helps me find jobs online but sometimes it'...</td>\n",
       "      <td>4.0</td>\n",
       "    </tr>\n",
       "  </tbody>\n",
       "</table>\n",
       "</div>"
      ],
      "text/plain": [
       "  review_time                                    positive_review  \\\n",
       "0  2022-02-12  It's effortless to use both as a Job Seeker an...   \n",
       "1  2021-12-17  I can say that LinkedIn job search is the best...   \n",
       "2  2022-05-11  Linkedln job seach provide you the multiple fi...   \n",
       "3  2021-11-19  This software allows the candidate or the job ...   \n",
       "4  2021-11-15  I like the idea itself to help you find a job ...   \n",
       "\n",
       "                                     negative_review  \\\n",
       "0  The job \"subscriptions\" you create for yoursel...   \n",
       "1  Although the LinkedIn job search is the best w...   \n",
       "2  There is nothing to dislike about linkedln job...   \n",
       "3  I am delighted to use this application, and I ...   \n",
       "4       I use Linkedin the application to find a job   \n",
       "\n",
       "                                     problems_solved  rating  \n",
       "0  Personally, I find the best feature is how eas...     4.5  \n",
       "1  The best thing that I used to do is that I can...     5.0  \n",
       "2  It helping to get market current requirements ...     5.0  \n",
       "3  I usually post jobs for my organization, and t...     5.0  \n",
       "4  It helps me find jobs online but sometimes it'...     4.0  "
      ]
     },
     "execution_count": 9,
     "metadata": {},
     "output_type": "execute_result"
    }
   ],
   "source": [
    "print(\"LinkedIn DataFrame:\")\n",
    "linkedin_df.head()"
   ]
  },
  {
   "cell_type": "code",
   "execution_count": 10,
   "metadata": {},
   "outputs": [
    {
     "name": "stdout",
     "output_type": "stream",
     "text": [
      "Indeed DataFrame:\n"
     ]
    },
    {
     "data": {
      "text/html": [
       "<div>\n",
       "<style scoped>\n",
       "    .dataframe tbody tr th:only-of-type {\n",
       "        vertical-align: middle;\n",
       "    }\n",
       "\n",
       "    .dataframe tbody tr th {\n",
       "        vertical-align: top;\n",
       "    }\n",
       "\n",
       "    .dataframe thead th {\n",
       "        text-align: right;\n",
       "    }\n",
       "</style>\n",
       "<table border=\"1\" class=\"dataframe\">\n",
       "  <thead>\n",
       "    <tr style=\"text-align: right;\">\n",
       "      <th></th>\n",
       "      <th>review_time</th>\n",
       "      <th>positive_review</th>\n",
       "      <th>negative_review</th>\n",
       "      <th>problems_solved</th>\n",
       "      <th>rating</th>\n",
       "    </tr>\n",
       "  </thead>\n",
       "  <tbody>\n",
       "    <tr>\n",
       "      <th>0</th>\n",
       "      <td>2021-12-10</td>\n",
       "      <td>While working as a business analyst, I was als...</td>\n",
       "      <td>As a paid user of indeed I liked everything in...</td>\n",
       "      <td>Used it for hiring Business Analysts and Data ...</td>\n",
       "      <td>4.0</td>\n",
       "    </tr>\n",
       "    <tr>\n",
       "      <th>1</th>\n",
       "      <td>2021-12-20</td>\n",
       "      <td>I've used indeed both for its hiring platform ...</td>\n",
       "      <td>Due to the number of candidates in the databas...</td>\n",
       "      <td>I don't use indeed as much as I used to, but I...</td>\n",
       "      <td>4.5</td>\n",
       "    </tr>\n",
       "    <tr>\n",
       "      <th>2</th>\n",
       "      <td>2022-03-27</td>\n",
       "      <td>Indeed app is very useful and user friendly. H...</td>\n",
       "      <td>There is nothing that I dislike as of now. Inf...</td>\n",
       "      <td>There are many benefits like user friendly, co...</td>\n",
       "      <td>5.0</td>\n",
       "    </tr>\n",
       "    <tr>\n",
       "      <th>3</th>\n",
       "      <td>2022-04-15</td>\n",
       "      <td>It is super user-friendly, it does have lots o...</td>\n",
       "      <td>That the sponsor jobs sometimes take the first...</td>\n",
       "      <td>Finding the right staff for my company will gi...</td>\n",
       "      <td>5.0</td>\n",
       "    </tr>\n",
       "    <tr>\n",
       "      <th>4</th>\n",
       "      <td>2021-11-25</td>\n",
       "      <td>•\\tWe can source the candidates as per the job...</td>\n",
       "      <td>•\\tIndeed helps to post multiple jobs at once.</td>\n",
       "      <td>•\\tIt was very easy to post a job and see all ...</td>\n",
       "      <td>5.0</td>\n",
       "    </tr>\n",
       "  </tbody>\n",
       "</table>\n",
       "</div>"
      ],
      "text/plain": [
       "  review_time                                    positive_review  \\\n",
       "0  2021-12-10  While working as a business analyst, I was als...   \n",
       "1  2021-12-20  I've used indeed both for its hiring platform ...   \n",
       "2  2022-03-27  Indeed app is very useful and user friendly. H...   \n",
       "3  2022-04-15  It is super user-friendly, it does have lots o...   \n",
       "4  2021-11-25  •\\tWe can source the candidates as per the job...   \n",
       "\n",
       "                                     negative_review  \\\n",
       "0  As a paid user of indeed I liked everything in...   \n",
       "1  Due to the number of candidates in the databas...   \n",
       "2  There is nothing that I dislike as of now. Inf...   \n",
       "3  That the sponsor jobs sometimes take the first...   \n",
       "4     •\\tIndeed helps to post multiple jobs at once.   \n",
       "\n",
       "                                     problems_solved  rating  \n",
       "0  Used it for hiring Business Analysts and Data ...     4.0  \n",
       "1  I don't use indeed as much as I used to, but I...     4.5  \n",
       "2  There are many benefits like user friendly, co...     5.0  \n",
       "3  Finding the right staff for my company will gi...     5.0  \n",
       "4  •\\tIt was very easy to post a job and see all ...     5.0  "
      ]
     },
     "execution_count": 10,
     "metadata": {},
     "output_type": "execute_result"
    }
   ],
   "source": [
    "print(\"Indeed DataFrame:\")\n",
    "indeed_df.head()"
   ]
  },
  {
   "cell_type": "code",
   "execution_count": 11,
   "metadata": {},
   "outputs": [
    {
     "name": "stdout",
     "output_type": "stream",
     "text": [
      "ZipRecruiter DataFrame:\n"
     ]
    },
    {
     "data": {
      "text/html": [
       "<div>\n",
       "<style scoped>\n",
       "    .dataframe tbody tr th:only-of-type {\n",
       "        vertical-align: middle;\n",
       "    }\n",
       "\n",
       "    .dataframe tbody tr th {\n",
       "        vertical-align: top;\n",
       "    }\n",
       "\n",
       "    .dataframe thead th {\n",
       "        text-align: right;\n",
       "    }\n",
       "</style>\n",
       "<table border=\"1\" class=\"dataframe\">\n",
       "  <thead>\n",
       "    <tr style=\"text-align: right;\">\n",
       "      <th></th>\n",
       "      <th>review_time</th>\n",
       "      <th>positive_review</th>\n",
       "      <th>negative_review</th>\n",
       "      <th>problems_solved</th>\n",
       "      <th>rating</th>\n",
       "    </tr>\n",
       "  </thead>\n",
       "  <tbody>\n",
       "    <tr>\n",
       "      <th>0</th>\n",
       "      <td>2018-01-08</td>\n",
       "      <td>We used ZipRecruiter for mulitple positions we...</td>\n",
       "      <td>The number of candidates and ease of tracking ...</td>\n",
       "      <td>It is expensive.  Less expensive than the big ...</td>\n",
       "      <td>4.0</td>\n",
       "    </tr>\n",
       "    <tr>\n",
       "      <th>1</th>\n",
       "      <td>2018-01-22</td>\n",
       "      <td>Hiring for over 50 positions in the Philadelph...</td>\n",
       "      <td>That candidates can apply easily, with just on...</td>\n",
       "      <td>Wish there was more screening questions and mo...</td>\n",
       "      <td>4.0</td>\n",
       "    </tr>\n",
       "    <tr>\n",
       "      <th>2</th>\n",
       "      <td>2017-12-21</td>\n",
       "      <td>We use zip recruiter to post all of our job op...</td>\n",
       "      <td>Having everything all in one place, its quick ...</td>\n",
       "      <td>We currently have to pull resumes manually int...</td>\n",
       "      <td>5.0</td>\n",
       "    </tr>\n",
       "    <tr>\n",
       "      <th>3</th>\n",
       "      <td>2017-12-14</td>\n",
       "      <td>ZipRecruiter is very easy to use. It is easy t...</td>\n",
       "      <td>I like that it is easy to use. It is easy to p...</td>\n",
       "      <td>There isn't anything that I dislike. It is eas...</td>\n",
       "      <td>4.5</td>\n",
       "    </tr>\n",
       "    <tr>\n",
       "      <th>4</th>\n",
       "      <td>2017-06-15</td>\n",
       "      <td>The Product is very helpful in a way that no o...</td>\n",
       "      <td>I get Job alerts just about everyday, and I ge...</td>\n",
       "      <td>I don't have anything bad to say, except, I wi...</td>\n",
       "      <td>4.5</td>\n",
       "    </tr>\n",
       "  </tbody>\n",
       "</table>\n",
       "</div>"
      ],
      "text/plain": [
       "  review_time                                    positive_review  \\\n",
       "0  2018-01-08  We used ZipRecruiter for mulitple positions we...   \n",
       "1  2018-01-22  Hiring for over 50 positions in the Philadelph...   \n",
       "2  2017-12-21  We use zip recruiter to post all of our job op...   \n",
       "3  2017-12-14  ZipRecruiter is very easy to use. It is easy t...   \n",
       "4  2017-06-15  The Product is very helpful in a way that no o...   \n",
       "\n",
       "                                     negative_review  \\\n",
       "0  The number of candidates and ease of tracking ...   \n",
       "1  That candidates can apply easily, with just on...   \n",
       "2  Having everything all in one place, its quick ...   \n",
       "3  I like that it is easy to use. It is easy to p...   \n",
       "4  I get Job alerts just about everyday, and I ge...   \n",
       "\n",
       "                                     problems_solved  rating  \n",
       "0  It is expensive.  Less expensive than the big ...     4.0  \n",
       "1  Wish there was more screening questions and mo...     4.0  \n",
       "2  We currently have to pull resumes manually int...     5.0  \n",
       "3  There isn't anything that I dislike. It is eas...     4.5  \n",
       "4  I don't have anything bad to say, except, I wi...     4.5  "
      ]
     },
     "execution_count": 11,
     "metadata": {},
     "output_type": "execute_result"
    }
   ],
   "source": [
    "print(\"ZipRecruiter DataFrame:\")\n",
    "ziprec_df.head()"
   ]
  },
  {
   "cell_type": "code",
   "execution_count": 12,
   "metadata": {},
   "outputs": [],
   "source": [
    "avg_rating_linkedin = linkedin_df['rating'].mean()\n",
    "avg_rating_indeed = indeed_df['rating'].mean()\n",
    "avg_rating_monster = monster_df['rating'].mean()\n",
    "avg_rating_ziprec = ziprec_df['rating'].mean()"
   ]
  },
  {
   "cell_type": "markdown",
   "metadata": {},
   "source": [
    "# LI Analysis"
   ]
  },
  {
   "cell_type": "code",
   "execution_count": 17,
   "metadata": {},
   "outputs": [
    {
     "name": "stdout",
     "output_type": "stream",
     "text": [
      "and         270\n",
      "job         258\n",
      "the         204\n",
      "to          184\n",
      "linkedin    163\n",
      "search      161\n",
      "on          138\n",
      "is          135\n",
      "by          117\n",
      "a           115\n",
      "Name: count, dtype: int64\n"
     ]
    }
   ],
   "source": [
    "import pandas as pd\n",
    "\n",
    "# Assuming your dataframe is named 'df'\n",
    "linkedin_reviews = linkedin_df[linkedin_df['positive_review'].str.contains('LinkedIn Job Search', case=False)]\n",
    "\n",
    "# Create a list of positive reviews\n",
    "positive_reviews = linkedin_reviews['positive_review'].tolist()\n",
    "\n",
    "# Concatenate all positive reviews into a single string\n",
    "positive_text = ' '.join(positive_reviews)\n",
    "\n",
    "# Tokenize the text into individual words\n",
    "tokens = positive_text.lower().split()\n",
    "\n",
    "# Count the frequency of each word\n",
    "word_counts = pd.Series(tokens).value_counts()\n",
    "\n",
    "# Display the top 10 most frequent words\n",
    "top_10_words = word_counts.head(10)\n",
    "print(top_10_words)"
   ]
  },
  {
   "cell_type": "code",
   "execution_count": 19,
   "metadata": {},
   "outputs": [
    {
     "name": "stdout",
     "output_type": "stream",
     "text": [
      "job          112\n",
      "and          103\n",
      "linkedin      82\n",
      "the           79\n",
      "on            71\n",
      "by            63\n",
      "search        61\n",
      "collected     59\n",
      "hosted        59\n",
      "g2.com.       59\n",
      "Name: count, dtype: int64\n"
     ]
    }
   ],
   "source": [
    "# Assuming your dataframe is named 'df'\n",
    "linkedin_reviews = df[df['negative_review'].str.contains('LinkedIn Job Search', case=False)]\n",
    "\n",
    "# Create a list of negative reviews\n",
    "negative_reviews = linkedin_reviews['negative_review'].tolist()\n",
    "\n",
    "# Concatenate all negative reviews into a single string\n",
    "negative_text = ' '.join(negative_reviews)\n",
    "\n",
    "# Tokenize the text into individual words\n",
    "tokens = negative_text.lower().split()\n",
    "\n",
    "# Count the frequency of each word\n",
    "word_counts = pd.Series(tokens).value_counts()\n",
    "\n",
    "# Display the top 10 most frequent words\n",
    "top_10_words = word_counts.head(10)\n",
    "print(top_10_words)"
   ]
  },
  {
   "cell_type": "code",
   "execution_count": 21,
   "metadata": {},
   "outputs": [
    {
     "name": "stdout",
     "output_type": "stream",
     "text": [
      ".            170\n",
      "job          169\n",
      "search       118\n",
      "linkedin     116\n",
      "hosted        88\n",
      "collected     88\n",
      "g2.com        88\n",
      ",             78\n",
      "jobs          42\n",
      "find          28\n",
      "Name: count, dtype: int64\n"
     ]
    }
   ],
   "source": [
    "import nltk\n",
    "from nltk.corpus import stopwords\n",
    "from nltk.tokenize import word_tokenize\n",
    "\n",
    "# Assuming your dataframe is named 'df'\n",
    "linkedin_reviews = linkedin_df[linkedin_df['problems_solved'].str.contains('LinkedIn Job Search', case=False)]\n",
    "\n",
    "# Create a list of problems solved\n",
    "problems_solved = linkedin_reviews['problems_solved'].tolist()\n",
    "\n",
    "# Concatenate all problems solved into a single string\n",
    "problems_text = ' '.join(problems_solved)\n",
    "\n",
    "# Tokenize the text into individual words\n",
    "tokens = word_tokenize(problems_text.lower())\n",
    "\n",
    "# Remove stopwords\n",
    "stop_words = set(stopwords.words('english'))\n",
    "filtered_tokens = [token for token in tokens if token not in stop_words]\n",
    "\n",
    "# Perform frequency analysis on the filtered tokens\n",
    "word_counts = pd.Series(filtered_tokens).value_counts()\n",
    "\n",
    "# Display the top 10 most frequent words\n",
    "top_10_words = word_counts.head(10)\n",
    "print(top_10_words)"
   ]
  },
  {
   "cell_type": "code",
   "execution_count": 22,
   "metadata": {},
   "outputs": [
    {
     "name": "stdout",
     "output_type": "stream",
     "text": [
      "and: 1791\n",
      ".: 1680\n",
      "to: 1251\n",
      "the: 1185\n",
      "on: 976\n",
      "job: 853\n",
      "by: 853\n",
      "collected: 760\n",
      "hosted: 760\n",
      "g2.com: 760\n"
     ]
    }
   ],
   "source": [
    "import pandas as pd\n",
    "from nltk import sent_tokenize, word_tokenize, FreqDist\n",
    "\n",
    "\n",
    "# Filter positive reviews for LinkedIn Job Search\n",
    "positive_reviews = linkedin_df['positive_review'].dropna().tolist()\n",
    "\n",
    "# Tokenize the reviews into sentences and words\n",
    "review_sentences = [sent_tokenize(review) for review in positive_reviews]\n",
    "review_words = [word_tokenize(sentence) for sentences in review_sentences for sentence in sentences]\n",
    "\n",
    "# Concatenate the words from all reviews\n",
    "all_words = [word.lower() for words in review_words for word in words]\n",
    "\n",
    "# Perform frequency analysis on the words\n",
    "fdist = FreqDist(all_words)\n",
    "\n",
    "# Get the most common words and their frequencies\n",
    "most_common_words = fdist.most_common(10)\n",
    "for word, frequency in most_common_words:\n",
    "    print(f'{word}: {frequency}')"
   ]
  },
  {
   "cell_type": "code",
   "execution_count": null,
   "metadata": {},
   "outputs": [],
   "source": []
  }
 ],
 "metadata": {
  "kernelspec": {
   "display_name": "base",
   "language": "python",
   "name": "python3"
  },
  "language_info": {
   "codemirror_mode": {
    "name": "ipython",
    "version": 3
   },
   "file_extension": ".py",
   "mimetype": "text/x-python",
   "name": "python",
   "nbconvert_exporter": "python",
   "pygments_lexer": "ipython3",
   "version": "3.9.13"
  },
  "orig_nbformat": 4
 },
 "nbformat": 4,
 "nbformat_minor": 2
}
